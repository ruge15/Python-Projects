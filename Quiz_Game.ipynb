{
 "cells": [
  {
   "cell_type": "markdown",
   "id": "195fb30e-9f6b-4177-9b98-7ef9a3d8cd82",
   "metadata": {},
   "source": [
    "# Python project of Quiz Game\n",
    "### This game will ask the user with series of questions and for each question answered correctly user will get score of 1.\n",
    "\n",
    "##### Author: Chetan Ruge"
   ]
  },
  {
   "cell_type": "code",
   "execution_count": 22,
   "id": "f02a502f-5df2-445f-ae4c-3f08c83fe0b6",
   "metadata": {},
   "outputs": [],
   "source": [
    "#Lets build the questions\n",
    "\n",
    "questions = [\n",
    "    {\n",
    "        \"prompt\":\"What is the capital of India?\",\n",
    "        \"options\": [\"A: Mumbai\", \"B: Noida\", \"C: Delhi\", \"D: Bengaluru\"],\n",
    "        \"answer\": \"C\"\n",
    "    },\n",
    "    {\n",
    "        \"prompt\": \"Which language is spoken in the state of Karnataka?\",\n",
    "        \"options\": [\"A: Hindi\",\"B: Kannada\",\"C: Tamil\",\"D: Telagu\"],\n",
    "        \"answer\": \"B\"\n",
    "    },\n",
    "    {\n",
    "        \"prompt\": \"Which beavarage is consumed by most Indias on an avarage?\",\n",
    "        \"options\": [\"A: Tea\",\"B: Coffee\",\"C: Beer\",\"D: Hot Milk\"],\n",
    "        \"answer\": \"A\"\n",
    "    },\n",
    "    {\n",
    "        \"prompt\": \"Which state is called as Gods own country in India?\",\n",
    "        \"options\": [\"A: Karnataka\", \"B: Jammu and Kashmir\",\"C: Goa\", \"D: Kerala\"],\n",
    "        \"answer\": \"D\"\n",
    "    } \n",
    "]"
   ]
  },
  {
   "cell_type": "code",
   "execution_count": 23,
   "id": "59da19d9-68d3-433c-afad-f333237b8781",
   "metadata": {},
   "outputs": [
    {
     "data": {
      "text/plain": [
       "[{'prompt': 'What is the capital of India?',\n",
       "  'options': ['A: Mumbai', 'B: Noida', 'C: Delhi', 'D: Bengaluru'],\n",
       "  'answer': 'C'},\n",
       " {'prompt': 'Which language is spoken in the state of Karnataka?',\n",
       "  'options': ['A: Hindi', 'B: Kannada', 'C: Tamil', 'D: Telagu'],\n",
       "  'answer': 'B'},\n",
       " {'prompt': 'Which beavarage is consumed by most Indias on an avarage?',\n",
       "  'options': ['A: Tea', 'B: Coffee', 'C: Beer', 'D: Hot Milk'],\n",
       "  'answer': 'A'},\n",
       " {'prompt': 'Which state is called as Gods own country in India?',\n",
       "  'options': ['A: Karnataka', 'B: Jammu and Kashmir', 'C: Goa', 'D: Kerala'],\n",
       "  'answer': 'D'}]"
      ]
     },
     "execution_count": 23,
     "metadata": {},
     "output_type": "execute_result"
    }
   ],
   "source": [
    "# You may add as many questions as you like\n",
    "questions"
   ]
  },
  {
   "cell_type": "code",
   "execution_count": 30,
   "id": "6031820e-5f2f-4266-8f90-5abe195a2bc3",
   "metadata": {},
   "outputs": [],
   "source": [
    "#Lets use these questions in the function that we will be a game\n",
    "\n",
    "def quiz_game(questions):\n",
    "    score=0\n",
    "    for questions in questions:\n",
    "        print(questions['prompt'])\n",
    "        for option in questions['options']:\n",
    "            print(option)\n",
    "        answer=input(\"Enter the option to answer:\").upper()\n",
    "        if answer == questions['answer']:\n",
    "            print(\"It is correct answer.\",\"\\n\")\n",
    "            score+=1\n",
    "        else:\n",
    "            print(f\"You got the wrong answer the right answer was {questions['answer']}\",\"\\n\")\n",
    "    print(f\"You scored: {score} out of {len(questions)+1} questions correct.\")\n",
    "    print(\"Thank you for playing.\")"
   ]
  },
  {
   "cell_type": "code",
   "execution_count": 31,
   "id": "4c60e918-7625-4437-89f2-eedd3983b81b",
   "metadata": {},
   "outputs": [
    {
     "name": "stdout",
     "output_type": "stream",
     "text": [
      "What is the capital of India?\n",
      "A: Mumbai\n",
      "B: Noida\n",
      "C: Delhi\n",
      "D: Bengaluru\n"
     ]
    },
    {
     "name": "stdin",
     "output_type": "stream",
     "text": [
      "Enter the option to answer: A\n"
     ]
    },
    {
     "name": "stdout",
     "output_type": "stream",
     "text": [
      "You got the wrong answer the right answer was C \n",
      "\n",
      "Which language is spoken in the state of Karnataka?\n",
      "A: Hindi\n",
      "B: Kannada\n",
      "C: Tamil\n",
      "D: Telagu\n"
     ]
    },
    {
     "name": "stdin",
     "output_type": "stream",
     "text": [
      "Enter the option to answer: B\n"
     ]
    },
    {
     "name": "stdout",
     "output_type": "stream",
     "text": [
      "It is correct answer. \n",
      "\n",
      "Which beavarage is consumed by most Indias on an avarage?\n",
      "A: Tea\n",
      "B: Coffee\n",
      "C: Beer\n",
      "D: Hot Milk\n"
     ]
    },
    {
     "name": "stdin",
     "output_type": "stream",
     "text": [
      "Enter the option to answer: a\n"
     ]
    },
    {
     "name": "stdout",
     "output_type": "stream",
     "text": [
      "It is correct answer. \n",
      "\n",
      "Which state is called as Gods own country in India?\n",
      "A: Karnataka\n",
      "B: Jammu and Kashmir\n",
      "C: Goa\n",
      "D: Kerala\n"
     ]
    },
    {
     "name": "stdin",
     "output_type": "stream",
     "text": [
      "Enter the option to answer: d\n"
     ]
    },
    {
     "name": "stdout",
     "output_type": "stream",
     "text": [
      "It is correct answer. \n",
      "\n",
      "You scored: 3 out of 4 questions correct.\n",
      "Thank you for playing.\n"
     ]
    }
   ],
   "source": [
    "quiz_game(questions)"
   ]
  },
  {
   "cell_type": "code",
   "execution_count": null,
   "id": "45a28810-8aa5-4172-8968-e92363309adc",
   "metadata": {},
   "outputs": [],
   "source": []
  }
 ],
 "metadata": {
  "kernelspec": {
   "display_name": "Python 3 (ipykernel)",
   "language": "python",
   "name": "python3"
  },
  "language_info": {
   "codemirror_mode": {
    "name": "ipython",
    "version": 3
   },
   "file_extension": ".py",
   "mimetype": "text/x-python",
   "name": "python",
   "nbconvert_exporter": "python",
   "pygments_lexer": "ipython3",
   "version": "3.11.7"
  }
 },
 "nbformat": 4,
 "nbformat_minor": 5
}
